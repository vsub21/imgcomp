{
  "nbformat": 4,
  "nbformat_minor": 0,
  "metadata": {
    "colab": {
      "name": "pytorch-testing.ipynb",
      "version": "0.3.2",
      "provenance": []
    },
    "kernelspec": {
      "name": "python3",
      "display_name": "Python 3"
    },
    "accelerator": "GPU"
  },
  "cells": [
    {
      "metadata": {
        "id": "7ArSok2HJk0K",
        "colab_type": "code",
        "outputId": "a1b1e9fa-4e34-4e9b-d1f4-5187bf2e0e44",
        "colab": {
          "base_uri": "https://localhost:8080/",
          "height": 35
        }
      },
      "cell_type": "code",
      "source": [
        "import torch\n",
        "print(torch.__version__)\n",
        "import tensorflow as tf"
      ],
      "execution_count": 0,
      "outputs": [
        {
          "output_type": "stream",
          "text": [
            "1.0.1.post2\n"
          ],
          "name": "stdout"
        }
      ]
    },
    {
      "metadata": {
        "id": "nbTjlgedJmyZ",
        "colab_type": "code",
        "outputId": "33525b3a-d4ed-486d-e7db-15d33587fa1d",
        "colab": {
          "base_uri": "https://localhost:8080/",
          "height": 164
        }
      },
      "cell_type": "code",
      "source": [
        "# torch.tensor(data) creates a torch.Tensor object with the given data.\n",
        "V_data = [1., 2., 3.]\n",
        "V = torch.tensor(V_data)\n",
        "print(V)\n",
        "\n",
        "# Creates a matrix\n",
        "M_data = [[1., 2., 3.], [4., 5., 6]]\n",
        "M = torch.tensor(M_data)\n",
        "print(M)\n",
        "\n",
        "# Create a 3D tensor of size 2x2x2.\n",
        "T_data = [[[1., 2.], [3., 4.]],\n",
        "          [[5., 6.], [7., 8.]]]\n",
        "T = torch.tensor(T_data)\n",
        "print(T)"
      ],
      "execution_count": 0,
      "outputs": [
        {
          "output_type": "stream",
          "text": [
            "tensor([1., 2., 3.])\n",
            "tensor([[1., 2., 3.],\n",
            "        [4., 5., 6.]])\n",
            "tensor([[[1., 2.],\n",
            "         [3., 4.]],\n",
            "\n",
            "        [[5., 6.],\n",
            "         [7., 8.]]])\n"
          ],
          "name": "stdout"
        }
      ]
    },
    {
      "metadata": {
        "id": "YfYW_7eiZx8w",
        "colab_type": "code",
        "outputId": "7def7e03-5420-4524-aa0e-f037e5d78ab5",
        "colab": {
          "base_uri": "https://localhost:8080/",
          "height": 109
        }
      },
      "cell_type": "code",
      "source": [
        "# Index into V and get a scalar (0 dimensional tensor)\n",
        "print(V[0])\n",
        "# Get a Python number from it\n",
        "print(V[0].item())\n",
        "\n",
        "# Index into M and get a vector\n",
        "print(M[0])\n",
        "\n",
        "# Index into T and get a matrix\n",
        "print(T[0])"
      ],
      "execution_count": 0,
      "outputs": [
        {
          "output_type": "stream",
          "text": [
            "tensor(1.)\n",
            "1.0\n",
            "tensor([1., 2., 3.])\n",
            "tensor([[1., 2.],\n",
            "        [3., 4.]])\n"
          ],
          "name": "stdout"
        }
      ]
    },
    {
      "metadata": {
        "id": "tdavbmBHeO2i",
        "colab_type": "code",
        "outputId": "0c04ae72-fd34-4294-c8f0-f5629afed19c",
        "colab": {
          "base_uri": "https://localhost:8080/",
          "height": 146
        }
      },
      "cell_type": "code",
      "source": [
        "import torch\n",
        "import torch.nn as nn\n",
        "import torch.nn.functional as F\n",
        "\n",
        "\n",
        "class Net(nn.Module):\n",
        "\n",
        "    def __init__(self):\n",
        "        super(Net, self).__init__()\n",
        "        # 1 input image channel, 6 output channels, 5x5 square convolution\n",
        "        # kernel\n",
        "        self.conv1 = nn.Conv2d(1, 6, 5)\n",
        "        self.conv2 = nn.Conv2d(6, 16, 5)\n",
        "        # an affine operation: y = Wx + b\n",
        "        self.fc1 = nn.Linear(16 * 5 * 5, 120)\n",
        "        self.fc2 = nn.Linear(120, 84)\n",
        "        self.fc3 = nn.Linear(84, 10)\n",
        "\n",
        "    def forward(self, x):\n",
        "        # Max pooling over a (2, 2) window\n",
        "        x = F.max_pool2d(F.relu(self.conv1(x)), (2, 2))\n",
        "        # If the size is a square you can only specify a single number\n",
        "        x = F.max_pool2d(F.relu(self.conv2(x)), 2)\n",
        "        x = x.view(-1, self.num_flat_features(x))\n",
        "        x = F.relu(self.fc1(x))\n",
        "        x = F.relu(self.fc2(x))\n",
        "        x = self.fc3(x)\n",
        "        return x\n",
        "\n",
        "    def num_flat_features(self, x):\n",
        "        size = x.size()[1:]  # all dimensions except the batch dimension\n",
        "        num_features = 1\n",
        "        for s in size:\n",
        "            num_features *= s\n",
        "        return num_features\n",
        "\n",
        "\n",
        "net = Net()\n",
        "print(net)"
      ],
      "execution_count": 0,
      "outputs": [
        {
          "output_type": "stream",
          "text": [
            "Net(\n",
            "  (conv1): Conv2d(1, 6, kernel_size=(5, 5), stride=(1, 1))\n",
            "  (conv2): Conv2d(6, 16, kernel_size=(5, 5), stride=(1, 1))\n",
            "  (fc1): Linear(in_features=400, out_features=120, bias=True)\n",
            "  (fc2): Linear(in_features=120, out_features=84, bias=True)\n",
            "  (fc3): Linear(in_features=84, out_features=10, bias=True)\n",
            ")\n"
          ],
          "name": "stdout"
        }
      ]
    },
    {
      "metadata": {
        "id": "FMum0pd84Ctj",
        "colab_type": "text"
      },
      "cell_type": "markdown",
      "source": [
        "## size testing\n"
      ]
    },
    {
      "metadata": {
        "id": "Khc4mznH4p1F",
        "colab_type": "text"
      },
      "cell_type": "markdown",
      "source": [
        "###torch"
      ]
    },
    {
      "metadata": {
        "id": "y4avQbWaj3UT",
        "colab_type": "code",
        "outputId": "fcf885a7-2de9-48df-af81-f7ed3dad6faf",
        "colab": {
          "base_uri": "https://localhost:8080/",
          "height": 35
        }
      },
      "cell_type": "code",
      "source": [
        "p = torch.tensor([\n",
        "    [[1,1],[1,1],[1,1],[1,1],[1,1]],\n",
        "    [[1,1],[1,1],[1,1],[1,1],[1,1]],\n",
        "    [[1,1],[1,1],[1,1],[1,1],[1,1]]\n",
        "])\n",
        "p.size()"
      ],
      "execution_count": 0,
      "outputs": [
        {
          "output_type": "execute_result",
          "data": {
            "text/plain": [
              "torch.Size([3, 5, 2])"
            ]
          },
          "metadata": {
            "tags": []
          },
          "execution_count": 79
        }
      ]
    },
    {
      "metadata": {
        "id": "rDHrCqwM41WS",
        "colab_type": "code",
        "outputId": "e3ba28c3-742f-4d16-f192-e3f4bb23e1a5",
        "colab": {
          "base_uri": "https://localhost:8080/",
          "height": 35
        }
      },
      "cell_type": "code",
      "source": [
        "list(p.size())"
      ],
      "execution_count": 0,
      "outputs": [
        {
          "output_type": "execute_result",
          "data": {
            "text/plain": [
              "[3, 5, 2]"
            ]
          },
          "metadata": {
            "tags": []
          },
          "execution_count": 80
        }
      ]
    },
    {
      "metadata": {
        "id": "TJ_LZMkV4h3g",
        "colab_type": "code",
        "colab": {}
      },
      "cell_type": "code",
      "source": [
        "p_shape = list(map(int, p.size()))"
      ],
      "execution_count": 0,
      "outputs": []
    },
    {
      "metadata": {
        "id": "Z7BIBaHX6yUP",
        "colab_type": "code",
        "outputId": "a3f0d7f5-a73e-413d-ab82-872283565a2e",
        "colab": {
          "base_uri": "https://localhost:8080/",
          "height": 35
        }
      },
      "cell_type": "code",
      "source": [
        "axis = len(p_shape) - 1\n",
        "axis"
      ],
      "execution_count": 0,
      "outputs": [
        {
          "output_type": "execute_result",
          "data": {
            "text/plain": [
              "2"
            ]
          },
          "metadata": {
            "tags": []
          },
          "execution_count": 93
        }
      ]
    },
    {
      "metadata": {
        "id": "2BdB7k2v4rJR",
        "colab_type": "text"
      },
      "cell_type": "markdown",
      "source": [
        "###tensorflow"
      ]
    },
    {
      "metadata": {
        "id": "26dhDbR53gls",
        "colab_type": "code",
        "outputId": "8bba6943-e21a-48b6-87f2-983d037fdb25",
        "colab": {
          "base_uri": "https://localhost:8080/",
          "height": 35
        }
      },
      "cell_type": "code",
      "source": [
        "# t = tf.constant([\n",
        "#     [1.0, 2.0, 3.0], \n",
        "#     [4.0, 5.0, 6.0], \n",
        "#     [1,2,3], \n",
        "#     [1,2,3]\n",
        "# ])\n",
        "# t.get_shape()\n",
        "\n",
        "t = tf.constant([\n",
        "    [[1,1],[1,1],[1,1],[1,1],[1,1]],\n",
        "    [[1,1],[1,1],[1,1],[1,1],[1,1]],\n",
        "    [[1,1],[1,1],[1,1],[1,1],[1,1]],\n",
        "    [[1,1],[1,1],[1,1],[1,1],[1,1]]\n",
        "])\n",
        "t.get_shape()"
      ],
      "execution_count": 0,
      "outputs": [
        {
          "output_type": "execute_result",
          "data": {
            "text/plain": [
              "TensorShape([Dimension(4), Dimension(5), Dimension(2)])"
            ]
          },
          "metadata": {
            "tags": []
          },
          "execution_count": 87
        }
      ]
    },
    {
      "metadata": {
        "id": "5VX86VB046yk",
        "colab_type": "code",
        "outputId": "9ad46de7-208e-4853-b400-6ba434ff59b1",
        "colab": {
          "base_uri": "https://localhost:8080/",
          "height": 35
        }
      },
      "cell_type": "code",
      "source": [
        "t.get_shape().as_list()"
      ],
      "execution_count": 0,
      "outputs": [
        {
          "output_type": "execute_result",
          "data": {
            "text/plain": [
              "[4, 5, 2]"
            ]
          },
          "metadata": {
            "tags": []
          },
          "execution_count": 88
        }
      ]
    },
    {
      "metadata": {
        "id": "30luhabq4noN",
        "colab_type": "code",
        "outputId": "0d1e4ad8-c08d-47ab-e1cf-08b19e2399e3",
        "colab": {
          "base_uri": "https://localhost:8080/",
          "height": 35
        }
      },
      "cell_type": "code",
      "source": [
        "t_shape = list(map(int, t.get_shape()))\n",
        "t_shape"
      ],
      "execution_count": 0,
      "outputs": [
        {
          "output_type": "execute_result",
          "data": {
            "text/plain": [
              "[4, 5, 2]"
            ]
          },
          "metadata": {
            "tags": []
          },
          "execution_count": 89
        }
      ]
    },
    {
      "metadata": {
        "id": "MKwp-7Ti4abt",
        "colab_type": "code",
        "colab": {}
      },
      "cell_type": "code",
      "source": [
        "axis = len(t_shape) - 1"
      ],
      "execution_count": 0,
      "outputs": []
    },
    {
      "metadata": {
        "id": "ppfEbRfK1Ue4",
        "colab_type": "text"
      },
      "cell_type": "markdown",
      "source": [
        "## reduce_max"
      ]
    },
    {
      "metadata": {
        "id": "Q42SlFq01XQt",
        "colab_type": "text"
      },
      "cell_type": "markdown",
      "source": [
        "### torch"
      ]
    },
    {
      "metadata": {
        "id": "DoTMH36M1arn",
        "colab_type": "code",
        "outputId": "bafa3a36-9d81-41fb-cb8e-69907ff62b99",
        "colab": {
          "base_uri": "https://localhost:8080/",
          "height": 127
        }
      },
      "cell_type": "code",
      "source": [
        "x = torch.tensor([\n",
        "    [1.0, 2.0, 3.0], \n",
        "    [4.0, 5.0, 6.0], \n",
        "    [7.0, 10.0, 2.0]\n",
        "])\n",
        "\n",
        "axis = len(x.size()) - 1\n",
        "print(axis)\n",
        "m = torch.max(x, dim=axis)[0]\n",
        "m2 = torch.max(x, axis, keepdim=True)[0]\n",
        "res = m + torch.log(torch.sum(torch.exp(x-m2), axis))\n",
        "print(m)\n",
        "print(m2)\n",
        "print(res)"
      ],
      "execution_count": 0,
      "outputs": [
        {
          "output_type": "stream",
          "text": [
            "1\n",
            "tensor([ 3.,  6., 10.])\n",
            "tensor([[ 3.],\n",
            "        [ 6.],\n",
            "        [10.]])\n",
            "tensor([ 3.4076,  6.4076, 10.0489])\n"
          ],
          "name": "stdout"
        }
      ]
    },
    {
      "metadata": {
        "id": "e7OK73Dz1XBq",
        "colab_type": "text"
      },
      "cell_type": "markdown",
      "source": [
        "### tensorflow"
      ]
    },
    {
      "metadata": {
        "id": "u6jOzXTS1bDz",
        "colab_type": "code",
        "outputId": "b3ae8814-ad40-40b8-b36c-f4f7f0674fcc",
        "colab": {
          "base_uri": "https://localhost:8080/",
          "height": 127
        }
      },
      "cell_type": "code",
      "source": [
        "x = tf.constant([\n",
        "    [1.0, 2.0, 3.0], \n",
        "    [4.0, 5.0, 6.0], \n",
        "    [7.0, 10.0, 2.0]\n",
        "])\n",
        "\n",
        "axis = len(x.get_shape()) - 1\n",
        "print(axis)\n",
        "m = tf.reduce_max(x, axis)\n",
        "m2 = tf.reduce_max(x, axis, keep_dims=True)\n",
        "res = m + tf.log(tf.reduce_sum(tf.exp(x-m2), axis))\n",
        "\n",
        "with tf.Session() as sess:\n",
        "  printm = sess.run(m)\n",
        "  printm2 = sess.run(m2)\n",
        "  printres = sess.run(res)\n",
        "print(printm)\n",
        "print(printm2)\n",
        "print(printres)"
      ],
      "execution_count": 0,
      "outputs": [
        {
          "output_type": "stream",
          "text": [
            "1\n",
            "[ 3.  6. 10.]\n",
            "[[ 3.]\n",
            " [ 6.]\n",
            " [10.]]\n",
            "[ 3.407606  6.407606 10.048907]\n"
          ],
          "name": "stdout"
        }
      ]
    },
    {
      "metadata": {
        "id": "3wEDftpYGNcr",
        "colab_type": "text"
      },
      "cell_type": "markdown",
      "source": [
        "# fast-pixel-cnn (PyTorch 1.0)\n",
        "\n",
        "#### Vivek Subramaniam (Digital Video and Multimedia Laboratory)\n",
        "#### Mentor: Zheng Shou\n",
        "\n",
        "This is a PyTorch 1.0 implementation of [Fast PixelCNN++](https://github.com/PrajitR/fast-pixel-cnn) by [@PrajitR](https://github.com/PrajitR/) found in [\"Fast Generation for Convolutional Autoregressive Models\" (2017)](https://arxiv.org/abs/1704.06001). It has been ported from TensorFlow 1.0 to PyTorch 1.0."
      ]
    },
    {
      "metadata": {
        "id": "cs51fJ54j3J8",
        "colab_type": "code",
        "colab": {}
      },
      "cell_type": "code",
      "source": [
        ""
      ],
      "execution_count": 0,
      "outputs": []
    }
  ]
}